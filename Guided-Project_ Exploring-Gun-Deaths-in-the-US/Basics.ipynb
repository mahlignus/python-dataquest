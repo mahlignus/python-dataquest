{
 "cells": [
  {
   "cell_type": "markdown",
   "metadata": {},
   "source": [
    "# Análise de dados com Python\n",
    "Usando um arquivo CSV com dados sobre mortes por armas de fogo, foram analisadas as relações entre raça, gênero e intenção.\n",
    "No final do projeto, é possível verificar a relação de mortes por armas de fogo entre as raças e a intenção.\n",
    "A fonte de dados é de 2012"
   ]
  },
  {
   "cell_type": "code",
   "execution_count": 33,
   "metadata": {
    "collapsed": false
   },
   "outputs": [],
   "source": [
    "import csv, datetime\n",
    "\n",
    "# CSV docs\n",
    "data = list(csv.reader(open(\"guns.csv\")))\n",
    "headers = data[0]\n",
    "data = data[1:]\n",
    "\n",
    "census = list(csv.reader(open(\"census.csv\")))\n",
    "\n",
    "# Lists\n",
    "years = []\n",
    "dates = []\n",
    "sexes = []\n",
    "races = []\n",
    "intents = []\n",
    "\n",
    "# Dictionaries\n",
    "year_counts = {}\n",
    "date_counts = {}\n",
    "sex_counts = {}\n",
    "race_counts = {}\n",
    "race_per_hundredk = {}\n",
    "homicide_race_counts = {}\n",
    "\n",
    "for row in data:\n",
    "    if row[1] is None: # Prevenção de dados incompletos\n",
    "        row[1] = '0'\n",
    "    #years.append(row[1])\n",
    "    \n",
    "    if row[2] is None:\n",
    "        row[2] = '0'\n",
    "    dates.append(datetime.datetime(year=int(row[1]), month=int(row[2]), day=1))\n",
    "    \n",
    "    if row[3] is None: \n",
    "        row[3] = \"Undefined\"\n",
    "    intents.append(row[3])\n",
    "    \n",
    "    if row[5] is None:\n",
    "        row[5] = \"O\"\n",
    "    sexes.append(row[5])\n",
    "    \n",
    "    if row[7] is None:\n",
    "        row[7] = \"Undefined\"\n",
    "    races.append(row[7])\n",
    "    \n",
    "\"\"\"\n",
    "for year in years:\n",
    "    if year in year_counts.keys():\n",
    "        year_counts[year] += 1\n",
    "    else:\n",
    "        year_counts.update({year: 1})\n",
    "\"\"\"\n",
    "\n",
    "for date_item in dates:\n",
    "    if date_item in date_counts.keys():\n",
    "        date_counts[date_item] += 1\n",
    "    else:\n",
    "        date_counts.update({date_item: 1})\n",
    "        \n",
    "for sex_item in sexes:\n",
    "    if sex_item in sex_counts.keys():\n",
    "        sex_counts[sex_item] += 1\n",
    "    else:\n",
    "        sex_counts.update({sex_item: 1})\n",
    "        \n",
    "for race_item in races:\n",
    "    if race_item in race_counts.keys():\n",
    "        race_counts[race_item] += 1\n",
    "    else:\n",
    "        race_counts.update({race_item: 1})\n",
    "        \n"
   ]
  },
  {
   "cell_type": "code",
   "execution_count": 38,
   "metadata": {
    "collapsed": false
   },
   "outputs": [
    {
     "name": "stdout",
     "output_type": "stream",
     "text": [
      "['', 'year', 'month', 'intent', 'police', 'sex', 'age', 'race', 'hispanic', 'place', 'education']\n"
     ]
    }
   ],
   "source": [
    "print(headers)"
   ]
  },
  {
   "cell_type": "code",
   "execution_count": 34,
   "metadata": {
    "collapsed": false
   },
   "outputs": [],
   "source": [
    "mapping = {\n",
    "    \"Asian/Pacific Islander\": 15159516+674625, # Race Alone - Asian + Race Alone - Native\n",
    "    \"Native American/Native Alaskan\": 3739506,\n",
    "    \"Black\": 40250635,\n",
    "    \"Hispanic\": 44618105,\n",
    "    \"White\": 197318956\n",
    "}\n",
    "\n",
    "for key, value in race_counts.items():\n",
    "    race_per_hundredk[key] = (value / mapping[key]) * 100000"
   ]
  },
  {
   "cell_type": "code",
   "execution_count": 53,
   "metadata": {
    "collapsed": false
   },
   "outputs": [
    {
     "name": "stdout",
     "output_type": "stream",
     "text": [
      "Hispanic :  7.106980451097149\n",
      "White :  28.06217969245692\n",
      "Asian/Pacific Islander :  4.705023152187416\n",
      "Native American/Native Alaskan :  14.841532544673013\n",
      "Black :  8.278130270491385\n"
     ]
    }
   ],
   "source": [
    "\"\"\"\n",
    "for i, race in enumerate(races):\n",
    "    if race not in homicide_race_counts:\n",
    "        homicide_race_counts[race] = 0\n",
    "    if intents[i] == \"Homicide\":\n",
    "        homicide_race_counts[race] += 1\n",
    "\"\"\"\n",
    "def race_per_hundredk_by_intent(intent):\n",
    "    global race_per_hundredk\n",
    "    \n",
    "    results = {}\n",
    "    \n",
    "    if intent not in intents:\n",
    "        print(\"Intent not valid\")\n",
    "        return\n",
    "    \n",
    "    for i, race in enumerate(races):\n",
    "        if race not in results:\n",
    "            results[race] = 0\n",
    "        if intents[i] == intent:\n",
    "            results[race] += 1\n",
    "        \n",
    "    race_per_hundredk = {}\n",
    "    for key, value in results.items():\n",
    "        race_per_hundredk[key] = (value / mapping[key]) * 100000\n",
    "        \n",
    "        print(key, \": \", race_per_hundredk[key])\n",
    "    \n",
    "race_per_hundredk_by_intent(\"Suicide\")"
   ]
  },
  {
   "cell_type": "code",
   "execution_count": null,
   "metadata": {
    "collapsed": true
   },
   "outputs": [],
   "source": []
  }
 ],
 "metadata": {
  "kernelspec": {
   "display_name": "Python 3",
   "language": "python",
   "name": "python3"
  },
  "language_info": {
   "codemirror_mode": {
    "name": "ipython",
    "version": 3
   },
   "file_extension": ".py",
   "mimetype": "text/x-python",
   "name": "python",
   "nbconvert_exporter": "python",
   "pygments_lexer": "ipython3",
   "version": "3.4.3"
  }
 },
 "nbformat": 4,
 "nbformat_minor": 0
}
